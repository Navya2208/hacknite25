# 1. Imports and Data Loading
import pandas as pd
import matplotlib.pyplot as plt
import seaborn as sns

df = pd.read_csv('/kaggle/input/dataset-netflix-shows-updated/netflix_data_updated.csv')
df.head()

# 2. Basic Info and Nulls
df.info()
df.isnull().sum()

# 3. Unique value counts
print(df['type'].value_counts())
print(df['country'].value_counts().head(10))

# 4. Fill/Handle Nulls
df['director'] = df['director'].fillna('Unknown')
df['cast'] = df['cast'].fillna('Unknown')
df['country'] = df['country'].fillna('Unknown')

# 5. Feature Engineering: Extract year/month from 'date_added'
df['date_added'] = pd.to_datetime(df['date_added'], errors='coerce')
df['added_year'] = df['date_added'].dt.year

# 6. Visualizations
plt.figure(figsize=(8,4))
sns.countplot(data=df, x='type')
plt.title('Count of Movies vs TV Shows')
plt.show()

plt.figure(figsize=(12,4))
df['added_year'].value_counts().sort_index().plot(kind='bar')
plt.title('Titles Added to Netflix by Year')
plt.ylabel('Count')
plt.show()

# 7. Genre Analysis
df['genres'] = df['listed_in'].fillna('').apply(lambda x: [g.strip() for g in x.split(',') if g.strip()])
from collections import Counter
genre_counts = Counter([genre for sublist in df['genres'] for genre in sublist])
pd.Series(genre_counts).sort_values(ascending=False).head(10).plot(kind='bar')
plt.title('Top 10 Genres')
plt.show()
